{
 "cells": [
  {
   "cell_type": "markdown",
   "metadata": {
    "id": "view-in-github"
   },
   "source": [
    "<a href=\"https://colab.research.google.com/github/unt-iialab/INFO5731_Spring2020/blob/master/Assignments/INFO5731_Assignment_One.ipynb\" target=\"_parent\"><img src=\"https://colab.research.google.com/assets/colab-badge.svg\" alt=\"Open In Colab\"/></a>"
   ]
  },
  {
   "cell_type": "markdown",
   "metadata": {
    "id": "Ryk8D1Q4Wsrp"
   },
   "source": [
    "# **The second Lab-assignment (02/04/2022, 50 points in total)**"
   ]
  },
  {
   "cell_type": "markdown",
   "metadata": {
    "id": "90_NR8c5XGWc"
   },
   "source": [
    "# Question 1\n",
    "\n",
    "(5 points). Write a Python program to generate 12 random numbers between 1 and 100. Sort the list of numbers in ascending order and print it out. Sort the list of numbers in descending order and print it out. Calculate the average for the group and print it out."
   ]
  },
  {
   "cell_type": "code",
   "execution_count": 1,
   "metadata": {
    "colab": {
     "base_uri": "https://localhost:8080/"
    },
    "id": "5QX6bJjGWXY9",
    "outputId": "b5b38de3-baf9-40dd-c2a1-5a7f3af7a155"
   },
   "outputs": [
    {
     "name": "stdout",
     "output_type": "stream",
     "text": [
      "Ascending Order is: [10, 11, 12, 13, 19, 26, 43, 45, 49, 53, 80, 88]\n",
      "Descending Order is: [88, 80, 53, 49, 45, 43, 26, 19, 13, 12, 11, 10]\n",
      "Average is: 37.416666666666664\n"
     ]
    }
   ],
   "source": [
    "# Your code here\n",
    "def fun(a):\n",
    "    return len(a)\n",
    "\n",
    "import random\n",
    "random_list = random.sample(range(1, 100), 12)\n",
    "#Ascending Order sorted for 12 random numbers\n",
    "print(\"Ascending Order is:\", sorted(random_list))\n",
    "#Descending Order sorted for 12 random numbers\n",
    "print(\"Descending Order is:\", sorted(random_list, reverse = True))\n",
    "#Average of the random list\n",
    "print(\"Average is:\", sum(random_list)/len(random_list))"
   ]
  },
  {
   "cell_type": "markdown",
   "metadata": {
    "id": "1F_PZdH9Sh49"
   },
   "source": [
    "# Question 2\n",
    "(20 points). Write a program that will do the following string formatting tasks:\n",
    "\n",
    "(1) Ask the user to enter two sentences.\n",
    "\n",
    "(2) Make each sentence into a list. Each element in the list should correspond to a word in the sentence. For example, if the sentence is \"Alas! Am I alive? This is my first python program\", the program should print out ['Alas, '!', 'Am', 'I', 'alive, '?', 'This', 'is', 'my', 'first', 'python', 'program'].\n",
    "\n",
    "(3) Compare the two sentences. Print out a list of words that occur in both sentences.\n",
    "\n",
    "(4) Remove any punctuation from the sentence and print it back out. It should remove at least the following characters, but it can remove more: period(“.”), comma (“,”), semicolon (“;”), and colon (“:”)\n",
    "\n",
    "(5) Count the number of vowels in the sentences. Print out each vowel and the number of times it appears in the sentences, such as: a:2, e:1, i:0, etc"
   ]
  },
  {
   "cell_type": "code",
   "execution_count": 7,
   "metadata": {
    "colab": {
     "base_uri": "https://localhost:8080/"
    },
    "id": "Y0oOSlsOS0cq",
    "outputId": "c0c0649a-f60e-4872-b56d-4ae7b4b7480b"
   },
   "outputs": [
    {
     "name": "stdout",
     "output_type": "stream",
     "text": [
      "['David', '!', 'How', 'are', 'you', '?', 'What', 'are', 'your', 'plans', 'for', 'this', 'summer', '?']\n",
      "['Hey', 'Kischa', ',', 'I', 'am', 'doing', 'good', '.', 'I', 'am', 'planning', 'to', 'go', 'to', 'Miami', 'this', 'summer', '!']\n",
      "\n",
      "The common words in both the sentences are:  ['summer', 'this']\n",
      "\n",
      "Punctuations removed from the sentence\n",
      "David How are you What are your plans for this summer\n",
      "\n",
      "{'a': 5}\n",
      "{'a': 5, 'e': 3}\n",
      "{'a': 5, 'e': 3, 'i': 2}\n",
      "{'a': 5, 'e': 3, 'i': 2, 'o': 4}\n",
      "{'a': 5, 'e': 3, 'i': 2, 'o': 4, 'u': 3}\n",
      "{'a': 5}\n",
      "{'a': 5, 'e': 2}\n",
      "{'a': 5, 'e': 2, 'i': 8}\n",
      "{'a': 5, 'e': 2, 'i': 8, 'o': 6}\n",
      "{'a': 5, 'e': 2, 'i': 8, 'o': 6, 'u': 1}\n"
     ]
    }
   ],
   "source": [
    "# Your code here\n",
    "# (1)\n",
    "#sentence_1 (Enter the 1st sentence)= \"David! How are you? What are your plans for this summer?\"\n",
    "S1 = input(\"Enter first sentence: \")\n",
    "#sentence2 (Enter the 2nd sentence)= \"Hey Kischa, I am doing good. I am planning to go to Miami this summer!\"\n",
    "S2 = input(\"Enter second sentence: \")\n",
    "\n",
    "# (2)\n",
    "import re\n",
    "S1_list = re.findall(r\"[A-Za-z]+|\\S\",S1)\n",
    "S2_list = re.findall(r\"[A-Za-z]+|\\S\",S2)\n",
    "print(S1_list)\n",
    "print(S2_list)\n",
    "print()\n",
    "\n",
    "# (3)\n",
    "compare_sentences = list(set(S1_list)&set(S2_list))\n",
    "compare_sentences = [a for a in compare_sentences if a.isalpha()]\n",
    "print(\"The common words in both the sentences are: \", compare_sentences)\n",
    "print()\n",
    "\n",
    "# (4)\n",
    "print(\"Punctuations removed from the sentence\")\n",
    "print(\" \".join(i for i in re.findall(r\"[A-Za-z]+|\\s\", S1) if i != \" \"))\n",
    "print()\n",
    "\n",
    "# (5)\n",
    "for sentence in (S1, S2):\n",
    "    count_vowels = {}\n",
    "    for char in ['a', 'e', 'i', 'o', 'u']:\n",
    "        count_vowels[char] = sentence.lower().count(char)\n",
    "        print(count_vowels)"
   ]
  },
  {
   "cell_type": "markdown",
   "metadata": {
    "id": "CmFoI4jDS9nx"
   },
   "source": [
    "# Question 3 \n",
    "\n",
    "(5 points). The formula that describes the volume V of a sphere with radius r is the following:\n",
    "\n",
    "$ V=\\frac{4}{3}\\ast\\ \\pi\\ast\\ r^3 $\n",
    "\n",
    "Write a program to calculate the value of V when r is in the range of 1–10. Output the result in the following format:\n",
    "\n",
    "\tr\tV\n",
    "\t1\t…\n",
    "\t2\t…\n",
    "\t3\t…\n"
   ]
  },
  {
   "cell_type": "code",
   "execution_count": 5,
   "metadata": {
    "colab": {
     "base_uri": "https://localhost:8080/"
    },
    "id": "pEyqeioAT95b",
    "outputId": "2eff6b2c-ac8c-48be-f194-5f81c98ccf36"
   },
   "outputs": [
    {
     "name": "stdout",
     "output_type": "stream",
     "text": [
      "r   v\n",
      "1    4.1887902047863905\n",
      "2    33.510321638291124\n",
      "3    113.09733552923254\n",
      "4    268.082573106329\n",
      "5    523.5987755982989\n",
      "6    904.7786842338603\n",
      "7    1436.7550402417319\n",
      "8    2144.660584850632\n",
      "9    3053.6280592892786\n",
      "10    4188.790204786391\n"
     ]
    }
   ],
   "source": [
    "# Your code here\n",
    "import math\n",
    "print(\"r   v\")\n",
    "for r in range(1,11):\n",
    "    v = 4/3*math.pi*r**3\n",
    "    print(r,\"  \", v)"
   ]
  },
  {
   "cell_type": "markdown",
   "metadata": {
    "id": "z3tBE7E-Xn5X"
   },
   "source": [
    "# Question 4\n",
    "\n",
    "(20 points). In the field of Data Science, data is often formatted as a comma-delimited (CSV) file, where each line in a file corresponds to a field's value. Refer to Chapter 9 (p. 106) for more information on comma-delimited files. To answer this question, you will need to download the file [lab_assignment_02_denton_housing.csv](https://raw.githubusercontent.com/unt-iialab/info5502-spring2022/main/datasets/lab_assignment_02_denton_housing.csv) included with this assignment. The file [lab_assignment_02_denton_housing.csv](https://raw.githubusercontent.com/unt-iialab/info5502-spring2022/main/datasets/lab_assignment_02_denton_housing.csv) contains statistics about housing in the city of Denton from 2008 to 2014. Write a program to implement the following questions.\n",
    "\n",
    "(1) (10 pts) Calculate the difference in the number of Occupied Housing Units from year to year and print it. The difference must be calculated for the consecutive years such as 2008-2009, 2009-2010 etc. Finally, print the values in the ascending order.\n",
    "\n",
    "(2) (10 pts) For all the years, calculate the percentage of housing units which are vacant an occupied. Print the results in the following format:\n",
    "\n",
    "Year Vacant Housing Units Occupied Housing Units\n",
    "\n",
    "    2008  30%   70%                          \n",
    "\t2009 ----- -----\n",
    "\t2010 ----- -----\n",
    "    2011 ----- -----\n",
    "\t2012 ----- -----\n",
    "    2013 ----- -----\n",
    "\t2014 ----- -----\n",
    "  \n",
    "  \n",
    "\n",
    "(3) (10 pts) Calculate and print the valued and years in which the highest number of housing units were vacant and occupied. Print the results in the following format:  \n",
    "\n",
    "                              Year\tValue\n",
    "\tVacant Housing Units\t  -----   -----\n",
    "\tOccupied Housing Units\t-----   -----\n",
    "\n",
    "(4) (10 pts) Calculate the harmonic mean of the total housing units and print it out. You can find the information about harmonic mean here: https://ncalculators.com/statistics/harmonic-mean-calculator.htm"
   ]
  },
  {
   "cell_type": "code",
   "execution_count": 6,
   "metadata": {
    "colab": {
     "base_uri": "https://localhost:8080/"
    },
    "id": "iu9LEQ6OAWrr",
    "outputId": "6db8941e-f191-4189-ed83-999cb717c823"
   },
   "outputs": [
    {
     "name": "stdout",
     "output_type": "stream",
     "text": [
      "The ascending order of Occupied Housing Units is: \n",
      "2010-2011: 303\n",
      "2008-2009: 795\n",
      "2011-2012: 1404\n",
      "2012-2013: 1565\n",
      "2013-2014: 2622\n",
      "2009-2010: 5091\n"
     ]
    }
   ],
   "source": [
    "# 1.)\n",
    "from google.colab import files\n",
    "filestoupload = files.upload()\n",
    "import pandas as pd\n",
    "import io\n",
    "\n",
    "var = pd.read_csv(io.StringIO(filestoupload['lab_assignment_02_denton_housing.csv'].decode('utf-8')))\n",
    "output = {}\n",
    "for year in range(2008, 2014):\n",
    "\n",
    "  output[\"{}-{}\".format(year, year+1)] = abs(var[(var['year'] == year) & (var['title_field'] == \"Occupied Housing Units\")].values[0][2] - var[(var['year'] == year + 1) & (var['title_field'] == \"Occupied Housing Units\")].values[0][2])\n",
    "\n",
    "print(\"The ascending order of Occupied Housing Units is: \")\n",
    "output = {k: v for k, v in sorted(output.items(), key=lambda item: item[1])}\n",
    "\n",
    "for k in output.keys():\n",
    "  print(\"{}: {}\".format(k, output[k]))"
   ]
  },
  {
   "cell_type": "code",
   "execution_count": 18,
   "metadata": {
    "colab": {
     "base_uri": "https://localhost:8080/"
    },
    "id": "gibS5WJtCLA8",
    "outputId": "69f16212-a0b7-4d66-8335-2aa9f11053f4"
   },
   "outputs": [
    {
     "name": "stdout",
     "output_type": "stream",
     "text": [
      " Year  Vacant Housing %  Occupied Housing %\n",
      " 2008             10.88               89.12\n",
      " 2009              9.07               90.93\n",
      " 2010              8.14               91.86\n",
      " 2011              9.38               90.62\n",
      " 2012              6.68               93.32\n",
      " 2013              8.80               91.20\n",
      " 2014              5.73               94.27\n"
     ]
    }
   ],
   "source": [
    "# 2.)\n",
    "import pandas as pd\n",
    "\n",
    "percent_result = pd.DataFrame(columns = ['Year', 'Vacant Housing %', 'Occupied Housing %'])\n",
    "for year in range(2008, 2015):\n",
    "  output = {}\n",
    "  output['Year'] = year\n",
    "  output['Vacant Housing 30%'] = round((var[(var['year'] == year)]['value'].values[1]) / (var[(var['year'] == year)]['value'].values[0])*100, 2)\n",
    "  output['Occupied Housing 70%'] = round((var[(var['year'] == year)]['value'].values[2]) / (var[(var['year'] == year)]['value'].values[0])*100, 2) \n",
    "  percent_result = percent_result.append(output, ignore_index=True)\n",
    "\n",
    "percent_result['Year'] = percent_result['Year'].astype('int64')\n",
    "print(percent_result.to_string(index=False))"
   ]
  },
  {
   "cell_type": "code",
   "execution_count": 22,
   "metadata": {
    "colab": {
     "base_uri": "https://localhost:8080/"
    },
    "id": "Sd6R3G5RF_gC",
    "outputId": "51237741-d53f-4ac5-8323-8117eacfa3b8"
   },
   "outputs": [
    {
     "name": "stdout",
     "output_type": "stream",
     "text": [
      "                        Year  Value\n",
      "Units                              \n",
      "Vacant Housing Units    2014   4483\n",
      "Occupied Housing Units  2014  46295\n"
     ]
    }
   ],
   "source": [
    "# 3.)\n",
    "\n",
    "denton_housing_units_df = pd.DataFrame(columns=['Units','Year', 'Value'])\n",
    "for units in ['Vacant Housing Units', \"Occupied Housing Units\"]:\n",
    "  output = {}\n",
    "  output['Units'] = units\n",
    "  output['Year'] = var[var['title_field'] == units].min()[0]\n",
    "  output['Value'] = var[var['title_field'] == units].max()[2]\n",
    "  denton_housing_units_df = denton_housing_units_df.append(output, ignore_index=True)\n",
    "\n",
    "print(denton_housing_units_df.set_index('Units'))"
   ]
  },
  {
   "cell_type": "code",
   "execution_count": null,
   "metadata": {
    "colab": {
     "base_uri": "https://localhost:8080/"
    },
    "id": "QXZHyqwcJo42",
    "outputId": "1ca539a7-4426-4ec0-8a5a-f2edd23ce956"
   },
   "outputs": [
    {
     "name": "stdout",
     "output_type": "stream",
     "text": [
      "The Harmonic mean of Total Housing Units is:  44398.28543969185\n"
     ]
    }
   ],
   "source": [
    "# 4.)\n",
    "\n",
    "from statistics import harmonic_mean\n",
    "print(\"The Harmonic mean of Total Housing Units is: \",harmonic_mean(var[var['title_field'] == 'Total Housing Units']['value']))"
   ]
  }
 ],
 "metadata": {
  "colab": {
   "collapsed_sections": [],
   "name": "lab_assignment_02.ipynb",
   "provenance": []
  },
  "kernelspec": {
   "display_name": "Python 3 (ipykernel)",
   "language": "python",
   "name": "python3"
  },
  "language_info": {
   "codemirror_mode": {
    "name": "ipython",
    "version": 3
   },
   "file_extension": ".py",
   "mimetype": "text/x-python",
   "name": "python",
   "nbconvert_exporter": "python",
   "pygments_lexer": "ipython3",
   "version": "3.10.2"
  }
 },
 "nbformat": 4,
 "nbformat_minor": 1
}
